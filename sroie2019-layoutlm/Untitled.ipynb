{
 "cells": [
  {
   "cell_type": "code",
   "execution_count": 39,
   "id": "57bffee3-9e25-4502-9f5c-981c63740954",
   "metadata": {
    "execution": {
     "iopub.execute_input": "2021-12-24T16:24:17.105930Z",
     "iopub.status.busy": "2021-12-24T16:24:17.105668Z",
     "iopub.status.idle": "2021-12-24T16:24:25.548219Z",
     "shell.execute_reply": "2021-12-24T16:24:25.546926Z",
     "shell.execute_reply.started": "2021-12-24T16:24:17.105904Z"
    },
    "tags": []
   },
   "outputs": [],
   "source": [
    "from datasets import load_metric\n",
    "import datasets\n",
    "from transformers import LayoutLMTokenizer\n",
    "from transformers import AutoTokenizer\n",
    "from sroie2019_layoutlm_dataset import HFSREIO2019LayoutLMDataset\n",
    "\n",
    "metric = load_metric(\"seqeval\")\n",
    "logger = datasets.logging.get_logger(__name__)\n",
    "\n",
    "\n",
    "class HFTokenizer(object):\n",
    "    NAME = \"HFTokenizer\"\n",
    "\n",
    "    def __init__(self,\n",
    "                 hf_pretrained_tokenizer_checkpoint):\n",
    "        self._tokenizer = AutoTokenizer.from_pretrained(hf_pretrained_tokenizer_checkpoint)\n",
    "#         self._tokenizer = LayoutLMTokenizer.from_pretrained(\"microsoft/layoutlm-base-uncased\")\n",
    "\n",
    "    @property\n",
    "    def tokenizer(self):\n",
    "        return self._tokenizer\n",
    "\n",
    "    @staticmethod\n",
    "    def init_vf(hf_pretrained_tokenizer_checkpoint):\n",
    "        return HFTokenizer(hf_pretrained_tokenizer_checkpoint=hf_pretrained_tokenizer_checkpoint)\n",
    "\n",
    "    def tokenize_and_align_labels(self,\n",
    "                                  examples,\n",
    "                                  label_all_tokens=True):\n",
    "        \n",
    "        tokenized_inputs = self._tokenizer(examples[\"tokens\"],\n",
    "                                           truncation=True,\n",
    "                                           is_split_into_words=True)\n",
    "        \n",
    "        \n",
    "        print('#' * 100)\n",
    "        labels = []\n",
    "        for i, label in enumerate(examples[f\"ner_tags\"]):\n",
    "            word_ids = tokenized_inputs.word_ids(batch_index=i)\n",
    "            previous_word_idx = None\n",
    "            label_ids = []\n",
    "            for word_idx in word_ids:\n",
    "                # Special tokens have a word id that is None. We set the label to -100 so they are automatically\n",
    "                # ignored in the loss function.\n",
    "                if word_idx is None:\n",
    "                    label_ids.append(-100)\n",
    "                # We set the label for the first token of each word.\n",
    "                elif word_idx != previous_word_idx:\n",
    "                    label_ids.append(label[word_idx])\n",
    "                # For the other tokens in a word, we set the label to either the current label or -100, depending on\n",
    "                # the label_all_tokens flag.\n",
    "                else:\n",
    "                    label_ids.append(label[word_idx] if label_all_tokens else -100)\n",
    "                previous_word_idx = word_idx\n",
    "\n",
    "            labels.append(label_ids)\n",
    "\n",
    "        tokenized_inputs[\"labels\"] = labels\n",
    "        return tokenized_inputs\n",
    "\n",
    "\n",
    "hf_pretrained_tokenizer_checkpoint = \"microsoft/layoutlm-base-uncased\"\n",
    "#     hf_pretrained_tokenizer_checkpoint = \"distilbert-base-uncased\"\n",
    "\n",
    "\n",
    "hf_tokenizer = HFTokenizer.init_vf(hf_pretrained_tokenizer_checkpoint=hf_pretrained_tokenizer_checkpoint)"
   ]
  },
  {
   "cell_type": "code",
   "execution_count": 34,
   "id": "255a9d5a-dd83-4d1d-8b73-c2b5e0928ca9",
   "metadata": {
    "execution": {
     "iopub.execute_input": "2021-12-24T15:07:25.880834Z",
     "iopub.status.busy": "2021-12-24T15:07:25.880539Z",
     "iopub.status.idle": "2021-12-24T15:07:25.905245Z",
     "shell.execute_reply": "2021-12-24T15:07:25.904533Z",
     "shell.execute_reply.started": "2021-12-24T15:07:25.880796Z"
    },
    "tags": []
   },
   "outputs": [
    {
     "name": "stderr",
     "output_type": "stream",
     "text": [
      "Reusing dataset sroi_e2019_layout_lm (/Users/m.c.dhandapani/.mozhi/sroi_e2019_layout_lm/SROIE2019LayoutLM/1.0.0)\n"
     ]
    },
    {
     "name": "stdout",
     "output_type": "stream",
     "text": [
      "Cache directory:  /Users/m.c.dhandapani/.mozhi\n",
      "Cache1 directory:  /Users/m.c.dhandapani/.mozhi/sroi_e2019_layout_lm/SROIE2019LayoutLM/1.0.0\n"
     ]
    }
   ],
   "source": [
    "dataset = HFSREIO2019LayoutLMDataset().dataset"
   ]
  },
  {
   "cell_type": "code",
   "execution_count": 42,
   "id": "e16c65b6-44c9-4714-b1f1-c30bbd18cea1",
   "metadata": {
    "execution": {
     "iopub.execute_input": "2021-12-24T16:25:03.235028Z",
     "iopub.status.busy": "2021-12-24T16:25:03.234785Z",
     "iopub.status.idle": "2021-12-24T16:25:04.616445Z",
     "shell.execute_reply": "2021-12-24T16:25:04.615586Z",
     "shell.execute_reply.started": "2021-12-24T16:25:03.235004Z"
    },
    "tags": []
   },
   "outputs": [
    {
     "data": {
      "application/vnd.jupyter.widget-view+json": {
       "model_id": "85a5b2c076dc4ad8981163afa04f080c",
       "version_major": 2,
       "version_minor": 0
      },
      "text/plain": [
       "HBox(children=(FloatProgress(value=0.0, max=1.0), HTML(value='')))"
      ]
     },
     "metadata": {},
     "output_type": "display_data"
    },
    {
     "name": "stdout",
     "output_type": "stream",
     "text": [
      "####################################################################################################\n",
      "\n"
     ]
    },
    {
     "data": {
      "application/vnd.jupyter.widget-view+json": {
       "model_id": "8c1987c38c234beb9a36718697d33c4b",
       "version_major": 2,
       "version_minor": 0
      },
      "text/plain": [
       "HBox(children=(FloatProgress(value=0.0, max=1.0), HTML(value='')))"
      ]
     },
     "metadata": {},
     "output_type": "display_data"
    },
    {
     "name": "stdout",
     "output_type": "stream",
     "text": [
      "####################################################################################################\n",
      "\n"
     ]
    },
    {
     "data": {
      "application/vnd.jupyter.widget-view+json": {
       "model_id": "4d8f9e78e73f4b5494721aeace908a34",
       "version_major": 2,
       "version_minor": 0
      },
      "text/plain": [
       "HBox(children=(FloatProgress(value=0.0, max=1.0), HTML(value='')))"
      ]
     },
     "metadata": {},
     "output_type": "display_data"
    },
    {
     "name": "stdout",
     "output_type": "stream",
     "text": [
      "####################################################################################################\n",
      "\n"
     ]
    }
   ],
   "source": [
    "tokenized_datasets = dataset.map(hf_tokenizer.tokenize_and_align_labels, batched=True)\n"
   ]
  },
  {
   "cell_type": "code",
   "execution_count": 41,
   "id": "3912cb81-03fd-4c25-8b72-68dec039f71c",
   "metadata": {
    "execution": {
     "iopub.execute_input": "2021-12-24T16:24:43.238411Z",
     "iopub.status.busy": "2021-12-24T16:24:43.238145Z",
     "iopub.status.idle": "2021-12-24T16:24:43.244424Z",
     "shell.execute_reply": "2021-12-24T16:24:43.243656Z",
     "shell.execute_reply.started": "2021-12-24T16:24:43.238384Z"
    },
    "tags": []
   },
   "outputs": [
    {
     "data": {
      "text/plain": [
       "['[UNK]', '[SEP]', '[PAD]', '[CLS]', '[MASK]']"
      ]
     },
     "execution_count": 41,
     "metadata": {},
     "output_type": "execute_result"
    }
   ],
   "source": []
  },
  {
   "cell_type": "code",
   "execution_count": 43,
   "id": "fd7f9416-2750-40f4-9ce7-3b7938929629",
   "metadata": {
    "execution": {
     "iopub.execute_input": "2021-12-24T16:25:12.233321Z",
     "iopub.status.busy": "2021-12-24T16:25:12.233046Z",
     "iopub.status.idle": "2021-12-24T16:25:12.238208Z",
     "shell.execute_reply": "2021-12-24T16:25:12.237541Z",
     "shell.execute_reply.started": "2021-12-24T16:25:12.233291Z"
    }
   },
   "outputs": [
    {
     "data": {
      "text/plain": [
       "[100, 102, 0, 101, 103]"
      ]
     },
     "execution_count": 43,
     "metadata": {},
     "output_type": "execute_result"
    }
   ],
   "source": [
    "hf_tokenizer.tokenizer.all_special_ids"
   ]
  },
  {
   "cell_type": "code",
   "execution_count": 35,
   "id": "a0913767-f462-4e56-93ae-9f3bd6c17062",
   "metadata": {
    "execution": {
     "iopub.execute_input": "2021-12-24T15:07:25.906865Z",
     "iopub.status.busy": "2021-12-24T15:07:25.906547Z",
     "iopub.status.idle": "2021-12-24T15:07:25.911500Z",
     "shell.execute_reply": "2021-12-24T15:07:25.910850Z",
     "shell.execute_reply.started": "2021-12-24T15:07:25.906836Z"
    },
    "tags": []
   },
   "outputs": [
    {
     "data": {
      "text/plain": [
       "3"
      ]
     },
     "execution_count": 35,
     "metadata": {},
     "output_type": "execute_result"
    }
   ],
   "source": [
    "len(dataset)"
   ]
  },
  {
   "cell_type": "code",
   "execution_count": 36,
   "id": "306f9598-00a4-4219-a46b-4edd02e99ca7",
   "metadata": {
    "execution": {
     "iopub.execute_input": "2021-12-24T15:07:25.914489Z",
     "iopub.status.busy": "2021-12-24T15:07:25.913750Z",
     "iopub.status.idle": "2021-12-24T15:07:25.928887Z",
     "shell.execute_reply": "2021-12-24T15:07:25.928198Z",
     "shell.execute_reply.started": "2021-12-24T15:07:25.914418Z"
    },
    "tags": []
   },
   "outputs": [],
   "source": [
    "# dataset['train']['tokens'][-1]"
   ]
  },
  {
   "cell_type": "code",
   "execution_count": 44,
   "id": "7fcd7d8c-69e3-46fc-bed6-c855c2b669c5",
   "metadata": {
    "execution": {
     "iopub.execute_input": "2021-12-24T16:25:32.962339Z",
     "iopub.status.busy": "2021-12-24T16:25:32.962060Z",
     "iopub.status.idle": "2021-12-24T16:25:32.965696Z",
     "shell.execute_reply": "2021-12-24T16:25:32.964635Z",
     "shell.execute_reply.started": "2021-12-24T16:25:32.962314Z"
    },
    "tags": []
   },
   "outputs": [],
   "source": [
    "\n",
    "# print(dataset)\n",
    "\n",
    "# print(\"*\" * 100)\n",
    "\n",
    "# print(tokenized_datasets)\n",
    "\n",
    "# print(\"First sample: \", dataset['train'][0])\n",
    "\n",
    "# print(\"*\" * 100)\n",
    "\n",
    "# print(\"First tokenized sample: \", tokenized_datasets['train'][0])"
   ]
  },
  {
   "cell_type": "code",
   "execution_count": 10,
   "id": "8b95b946-84ec-41d0-aee7-544871adfccd",
   "metadata": {
    "execution": {
     "iopub.execute_input": "2021-12-24T14:53:09.033527Z",
     "iopub.status.busy": "2021-12-24T14:53:09.033212Z",
     "iopub.status.idle": "2021-12-24T14:53:14.006991Z",
     "shell.execute_reply": "2021-12-24T14:53:14.006223Z",
     "shell.execute_reply.started": "2021-12-24T14:53:09.033499Z"
    },
    "tags": []
   },
   "outputs": [],
   "source": [
    "tokenizer = LayoutLMTokenizer.from_pretrained(\"microsoft/layoutlm-base-uncased\")"
   ]
  },
  {
   "cell_type": "code",
   "execution_count": 45,
   "id": "e989c9d8-1e82-4fd7-81de-159edd7ff322",
   "metadata": {
    "execution": {
     "iopub.execute_input": "2021-12-24T16:25:37.621047Z",
     "iopub.status.busy": "2021-12-24T16:25:37.620780Z",
     "iopub.status.idle": "2021-12-24T16:25:37.623968Z",
     "shell.execute_reply": "2021-12-24T16:25:37.623273Z",
     "shell.execute_reply.started": "2021-12-24T16:25:37.621019Z"
    },
    "tags": []
   },
   "outputs": [],
   "source": [
    "# tokenizer.batch_encode_plus?"
   ]
  },
  {
   "cell_type": "code",
   "execution_count": 14,
   "id": "ee26d4de-d894-448d-b754-fa1b253ad920",
   "metadata": {
    "execution": {
     "iopub.execute_input": "2021-12-24T14:55:29.045045Z",
     "iopub.status.busy": "2021-12-24T14:55:29.044777Z",
     "iopub.status.idle": "2021-12-24T14:55:29.050651Z",
     "shell.execute_reply": "2021-12-24T14:55:29.050021Z",
     "shell.execute_reply.started": "2021-12-24T14:55:29.045016Z"
    },
    "tags": []
   },
   "outputs": [
    {
     "data": {
      "text/plain": [
       "{'input_ids': [[101, 3345, 102], [101, 27354, 102], [101, 3231, 102]], 'token_type_ids': [[0, 0, 0], [0, 0, 0], [0, 0, 0]], 'attention_mask': [[1, 1, 1], [1, 1, 1], [1, 1, 1]]}"
      ]
     },
     "execution_count": 14,
     "metadata": {},
     "output_type": "execute_result"
    }
   ],
   "source": [
    "tokenizer.batch_encode_plus(dataset, is_split_into_words=True, padding=True)"
   ]
  },
  {
   "cell_type": "code",
   "execution_count": null,
   "id": "9561faab-05f1-47cb-817e-646753f6ebfd",
   "metadata": {},
   "outputs": [],
   "source": []
  },
  {
   "cell_type": "code",
   "execution_count": null,
   "id": "72544eac-c3eb-4d38-978d-79fee9109049",
   "metadata": {},
   "outputs": [],
   "source": []
  },
  {
   "cell_type": "code",
   "execution_count": null,
   "id": "96147466-2b35-41b4-a5bd-ef49a86ce57d",
   "metadata": {},
   "outputs": [],
   "source": []
  },
  {
   "cell_type": "code",
   "execution_count": null,
   "id": "b7ffa8ee-7c0b-4ff9-8efe-e9754253ce6f",
   "metadata": {},
   "outputs": [],
   "source": []
  },
  {
   "cell_type": "code",
   "execution_count": null,
   "id": "e87c38e8-0523-47ca-9ed7-76443b5748cd",
   "metadata": {},
   "outputs": [],
   "source": []
  },
  {
   "cell_type": "code",
   "execution_count": 46,
   "id": "468fef42-9da3-4ba6-ac69-aaefb66a7884",
   "metadata": {
    "execution": {
     "iopub.execute_input": "2021-12-24T16:25:41.511064Z",
     "iopub.status.busy": "2021-12-24T16:25:41.510724Z",
     "iopub.status.idle": "2021-12-24T16:25:41.516583Z",
     "shell.execute_reply": "2021-12-24T16:25:41.515844Z",
     "shell.execute_reply.started": "2021-12-24T16:25:41.511033Z"
    }
   },
   "outputs": [
    {
     "data": {
      "text/plain": [
       "['[UNK]', '[SEP]', '[PAD]', '[CLS]', '[MASK]']"
      ]
     },
     "execution_count": 46,
     "metadata": {},
     "output_type": "execute_result"
    }
   ],
   "source": [
    "hf_tokenizer.tokenizer.all_special_tokens"
   ]
  },
  {
   "cell_type": "code",
   "execution_count": 53,
   "id": "75b2aa5b-6f73-4e80-86be-ffbf3c1f287f",
   "metadata": {
    "execution": {
     "iopub.execute_input": "2021-12-24T16:26:53.123579Z",
     "iopub.status.busy": "2021-12-24T16:26:53.123302Z",
     "iopub.status.idle": "2021-12-24T16:26:53.128382Z",
     "shell.execute_reply": "2021-12-24T16:26:53.127774Z",
     "shell.execute_reply.started": "2021-12-24T16:26:53.123547Z"
    },
    "tags": []
   },
   "outputs": [
    {
     "data": {
      "text/plain": [
       "['[CLS]', 'tan']"
      ]
     },
     "execution_count": 53,
     "metadata": {},
     "output_type": "execute_result"
    }
   ],
   "source": [
    "hf_tokenizer.tokenizer.convert_ids_to_tokens([101, 9092])"
   ]
  },
  {
   "cell_type": "code",
   "execution_count": 55,
   "id": "255ca6cc-dce0-4193-8dd7-e4ac58b751d6",
   "metadata": {
    "execution": {
     "iopub.execute_input": "2021-12-24T16:29:09.627686Z",
     "iopub.status.busy": "2021-12-24T16:29:09.627407Z",
     "iopub.status.idle": "2021-12-24T16:29:09.632232Z",
     "shell.execute_reply": "2021-12-24T16:29:09.631644Z",
     "shell.execute_reply.started": "2021-12-24T16:29:09.627652Z"
    },
    "tags": []
   },
   "outputs": [
    {
     "data": {
      "text/plain": [
       "{'unk_token': '[UNK]',\n",
       " 'sep_token': '[SEP]',\n",
       " 'pad_token': '[PAD]',\n",
       " 'cls_token': '[CLS]',\n",
       " 'mask_token': '[MASK]'}"
      ]
     },
     "execution_count": 55,
     "metadata": {},
     "output_type": "execute_result"
    }
   ],
   "source": [
    "hf_tokenizer.tokenizer.special_tokens_map"
   ]
  },
  {
   "cell_type": "code",
   "execution_count": null,
   "id": "e102d2dc-61be-4561-a9d2-4754c49c1f12",
   "metadata": {},
   "outputs": [],
   "source": []
  }
 ],
 "metadata": {
  "kernelspec": {
   "display_name": "Python 3 (ipykernel)",
   "language": "python",
   "name": "python3"
  },
  "language_info": {
   "codemirror_mode": {
    "name": "ipython",
    "version": 3
   },
   "file_extension": ".py",
   "mimetype": "text/x-python",
   "name": "python",
   "nbconvert_exporter": "python",
   "pygments_lexer": "ipython3",
   "version": "3.8.11"
  }
 },
 "nbformat": 4,
 "nbformat_minor": 5
}
